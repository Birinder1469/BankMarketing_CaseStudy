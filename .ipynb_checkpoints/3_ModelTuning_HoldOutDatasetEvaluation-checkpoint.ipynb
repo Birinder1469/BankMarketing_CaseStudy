{
 "cells": [
  {
   "cell_type": "code",
   "execution_count": 1,
   "metadata": {
    "colab": {
     "base_uri": "https://localhost:8080/"
    },
    "id": "kyWWaEMgPGdq",
    "outputId": "8a36a1b7-f398-4cfc-b554-265b08a65a2f"
   },
   "outputs": [
    {
     "name": "stdout",
     "output_type": "stream",
     "text": [
      "Mounted at /content/drive/\n"
     ]
    }
   ],
   "source": [
    "# # Mount the Google Drive\n",
    "\n",
    "# from google.colab import drive\n",
    "# drive.mount('/content/drive/')"
   ]
  },
  {
   "cell_type": "code",
   "execution_count": 2,
   "metadata": {
    "id": "9UGFppe7SIkg"
   },
   "outputs": [],
   "source": [
    "# Load packages \n",
    "import pandas as pd\n",
    "import numpy as np\n",
    "import matplotlib.pyplot as plt \n",
    "\n",
    "# Preprocessing and tuning packages \n",
    "from sklearn.preprocessing import StandardScaler\n",
    "\n",
    "# Modelling packages \n",
    "from sklearn.linear_model import LogisticRegression\n",
    "from sklearn.ensemble import RandomForestClassifier\n",
    "import xgboost as xgb\n",
    "\n",
    "# Evaluation packages \n",
    "from sklearn.metrics import roc_auc_score,roc_curve,auc\n",
    "from sklearn.model_selection import  RandomizedSearchCV, GridSearchCV, cross_val_score"
   ]
  },
  {
   "cell_type": "code",
   "execution_count": 4,
   "metadata": {
    "id": "9IzuZj1vPLDI"
   },
   "outputs": [],
   "source": [
    "train = pd.read_csv('data/train_data_encoded.csv')\n",
    "valid = pd.read_csv('data/validation_data_encoded.csv')\n",
    "test = pd.read_csv('data/test_data_encoded.csv')"
   ]
  },
  {
   "cell_type": "markdown",
   "metadata": {
    "id": "XaebdhFt_OZP"
   },
   "source": [
    "Now I will try hyperparameter tuning to find the best set of parameters for the 3 chosen algorithms. I will also implement the final model on the Test (Holdout) dataset and see how we performed overall."
   ]
  },
  {
   "cell_type": "code",
   "execution_count": null,
   "metadata": {
    "id": "IBBYBOq6PLJn"
   },
   "outputs": [],
   "source": [
    "# Get Train, Validation and Test datasets\n",
    "\n",
    "X_train = train.drop(columns=['target'])\n",
    "y_train = train['target']\n",
    "\n",
    "X_valid = valid.drop(columns=['target'])\n",
    "y_validation = valid['target']\n",
    "\n",
    "X_test = test.drop(columns=['target'])\n",
    "y_test = test['target']"
   ]
  },
  {
   "cell_type": "markdown",
   "metadata": {
    "id": "GsU7Mmwz_hdD"
   },
   "source": [
    "# Scaling"
   ]
  },
  {
   "cell_type": "markdown",
   "metadata": {
    "id": "J2nBcM_0_nic"
   },
   "source": [
    "The dataset is already encoded, however I need to scale the values before implementing any model."
   ]
  },
  {
   "cell_type": "code",
   "execution_count": null,
   "metadata": {
    "id": "GjkigGuDyBrv"
   },
   "outputs": [],
   "source": [
    "scaler = StandardScaler()\n",
    "\n",
    "# Fit on the training dataset\n",
    "scaler.fit(X_train)\n",
    "\n",
    "# Transform the training and validation datasets\n",
    "X_train_scaled = scaler.transform(X_train)\n",
    "X_validation_scaled = scaler.transform(X_valid)\n",
    "X_test_scaled = scaler.transform(X_test)"
   ]
  },
  {
   "cell_type": "markdown",
   "metadata": {
    "id": "Ftxm-xliyHzr"
   },
   "source": [
    "# Hyperparameter tuning"
   ]
  },
  {
   "cell_type": "markdown",
   "metadata": {
    "id": "p9OAi2VRyK05"
   },
   "source": [
    "I would prefer applying 10 fold cross validation but due to time constraints I will go with 5 fold cross validation. Also, there are multiple parameters to tune but I will tune only a few so I have more time for other experiments if possible."
   ]
  },
  {
   "cell_type": "markdown",
   "metadata": {
    "id": "sZg_h4gSyM_-"
   },
   "source": [
    "## Logistic Regression"
   ]
  },
  {
   "cell_type": "markdown",
   "metadata": {
    "id": "PaWrXjwnyOxP"
   },
   "source": [
    "While implemeting the Logistic regression we chose the inverse of intensity of regularization(Ridge) we intend to apply. There is a coefficient C which determines that. I will try couple of values of C and find the best through crossvalidation."
   ]
  },
  {
   "cell_type": "code",
   "execution_count": null,
   "metadata": {
    "colab": {
     "base_uri": "https://localhost:8080/"
    },
    "id": "wbb5FBEpyG7s",
    "outputId": "f0059d09-e2dd-4f0d-cf36-1eb793082e3a"
   },
   "outputs": [
    {
     "data": {
      "text/plain": [
       "{'C': [0.001, 0.01, 0.1, 1.0, 10, 100]}"
      ]
     },
     "execution_count": 7,
     "metadata": {},
     "output_type": "execute_result"
    }
   ],
   "source": [
    "# Parameters to tune \n",
    "parameters = {\n",
    "    'C': [0.001, 0.01, 0.1, 1.0, 10, 100]\n",
    "}\n",
    "parameters"
   ]
  },
  {
   "cell_type": "code",
   "execution_count": null,
   "metadata": {
    "colab": {
     "base_uri": "https://localhost:8080/"
    },
    "id": "8wthOh1qyG-D",
    "outputId": "2e4000f2-b3ad-4890-c7fc-22b8000109ef"
   },
   "outputs": [
    {
     "name": "stdout",
     "output_type": "stream",
     "text": [
      "The best parameters are: \n",
      " {'C': 100}\n"
     ]
    }
   ],
   "source": [
    "# Model\n",
    "lr = LogisticRegression(random_state=42,  class_weight='balanced')\n",
    "cv_lr = GridSearchCV(lr, parameters, cv=5, n_jobs = -1 )\n",
    "\n",
    "# Find best parameters\n",
    "cv_lr.fit(X_train_scaled, y_train)\n",
    "print('The best parameters are: \\n', cv_lr.best_params_)"
   ]
  },
  {
   "cell_type": "code",
   "execution_count": null,
   "metadata": {
    "colab": {
     "base_uri": "https://localhost:8080/"
    },
    "id": "aKsgURhhyHAa",
    "outputId": "06515381-7c3e-4f29-afe9-bbe713b64ac9"
   },
   "outputs": [
    {
     "data": {
      "text/plain": [
       "LogisticRegression(C=100, class_weight='balanced', random_state=42)"
      ]
     },
     "execution_count": 9,
     "metadata": {},
     "output_type": "execute_result"
    }
   ],
   "source": [
    "# Retrain model with tuned parameters\n",
    "\n",
    "lr_model = LogisticRegression(\n",
    "    random_state=42, \n",
    "    class_weight='balanced',\n",
    "    C=cv_lr.best_params_['C']) \n",
    "\n",
    "lr_model.fit(X_train_scaled, y_train)"
   ]
  },
  {
   "cell_type": "code",
   "execution_count": null,
   "metadata": {
    "colab": {
     "base_uri": "https://localhost:8080/"
    },
    "id": "U7-V1a5EyHCs",
    "outputId": "f8b68c46-0889-4bdb-f46c-69ff6e90a30f"
   },
   "outputs": [
    {
     "name": "stdout",
     "output_type": "stream",
     "text": [
      "Training ROC-AUC score of Logistic Regression model:  0.7987362355957504\n",
      "Validation ROC-AUC score of Logistic Regression model:  0.7872505209816545\n",
      "Test ROC-AUC score of Logistic Regression model:  0.7896226109634443\n"
     ]
    }
   ],
   "source": [
    "# Model Evaluation  \n",
    "y_predict_train = lr_model.predict_proba(X_train_scaled)\n",
    "y_predict_valid = lr_model.predict_proba(X_validation_scaled)\n",
    "y_predict_test = lr_model.predict_proba(X_test_scaled)\n",
    "\n",
    "train_score_lr = roc_auc_score(y_train, y_predict_train[:,1])\n",
    "valid_score_lr = roc_auc_score(y_validation, y_predict_valid[:,1])\n",
    "test_score_lr = roc_auc_score(y_test, y_predict_test[:,1])\n",
    "print(\"Training ROC-AUC score of Logistic Regression model: \", train_score_lr)\n",
    "print(\"Validation ROC-AUC score of Logistic Regression model: \", valid_score_lr)\n",
    "print(\"Test ROC-AUC score of Logistic Regression model: \", test_score_lr)"
   ]
  },
  {
   "cell_type": "markdown",
   "metadata": {
    "id": "g6GJ9m0zyVMy"
   },
   "source": [
    "## Random Forest"
   ]
  },
  {
   "cell_type": "markdown",
   "metadata": {
    "id": "tpU3ImbmyXan"
   },
   "source": [
    "There are multiple parameters we can tune in Random Forest eg. max features, n estimators, depth of the tree. We noticed above how RF is clearly overfitting."
   ]
  },
  {
   "cell_type": "code",
   "execution_count": null,
   "metadata": {
    "colab": {
     "base_uri": "https://localhost:8080/"
    },
    "id": "G8_gZISmyHHI",
    "outputId": "520761f7-9867-42f8-de4e-e30b11a62597"
   },
   "outputs": [
    {
     "data": {
      "text/plain": [
       "{'max_depth': [5, 15, 26, 36, 47, 57, 68, 78, 89, 100, None],\n",
       " 'max_features': ['auto', 'sqrt'],\n",
       " 'n_estimators': array([  50,  100,  150,  200,  250,  300,  350,  400,  450,  500,  550,\n",
       "         600,  650,  700,  750,  800,  850,  900,  950, 1000])}"
      ]
     },
     "execution_count": 11,
     "metadata": {},
     "output_type": "execute_result"
    }
   ],
   "source": [
    "# Parameters to tune \n",
    "n_estimators = np.arange(0,1001,50)[1:]\n",
    "max_features = ['auto', 'sqrt']\n",
    "max_depth = [int(x) for x in np.linspace(5, 100, num = 10)]\n",
    "max_depth.append(None)\n",
    "\n",
    "parameters = {\n",
    "    'max_features': max_features,\n",
    "    'n_estimators': n_estimators,\n",
    "    'max_depth': max_depth\n",
    "}\n",
    "parameters"
   ]
  },
  {
   "cell_type": "code",
   "execution_count": null,
   "metadata": {
    "colab": {
     "base_uri": "https://localhost:8080/"
    },
    "id": "87xwK6sbyHJN",
    "outputId": "326e81d6-f6cb-421d-b4d8-e164c366606b"
   },
   "outputs": [
    {
     "name": "stdout",
     "output_type": "stream",
     "text": [
      "The best parameters are: \n",
      " {'n_estimators': 1000, 'max_features': 'auto', 'max_depth': 5}\n"
     ]
    }
   ],
   "source": [
    "# Model\n",
    "rf = RandomForestClassifier(random_state=42)\n",
    "cv_rf = RandomizedSearchCV(rf, parameters, cv=5)\n",
    "\n",
    "# Find best parameters\n",
    "cv_rf.fit(X_train_scaled, y_train)\n",
    "print('The best parameters are: \\n', cv_rf.best_params_)"
   ]
  },
  {
   "cell_type": "code",
   "execution_count": null,
   "metadata": {
    "colab": {
     "base_uri": "https://localhost:8080/"
    },
    "id": "8EqEhYstyHLm",
    "outputId": "79d791eb-a4b4-4fb1-9229-49b0073893fd"
   },
   "outputs": [
    {
     "data": {
      "text/plain": [
       "RandomForestClassifier(max_depth=5, n_estimators=1000, random_state=42)"
      ]
     },
     "execution_count": 13,
     "metadata": {},
     "output_type": "execute_result"
    }
   ],
   "source": [
    "# Retrain model with tuned parameters\n",
    "\n",
    "rf_model = RandomForestClassifier(\n",
    "    random_state=42, \n",
    "    n_estimators =  cv_rf.best_params_['n_estimators'], \n",
    "    max_features =  cv_rf.best_params_['max_features'],\n",
    "    max_depth =  cv_rf.best_params_['max_depth'],\n",
    ") \n",
    "\n",
    "rf_model.fit(X_train_scaled, y_train)"
   ]
  },
  {
   "cell_type": "code",
   "execution_count": null,
   "metadata": {
    "colab": {
     "base_uri": "https://localhost:8080/"
    },
    "id": "OxNWeSYwyHNY",
    "outputId": "ef0ae7bd-7196-4d85-8ae3-58bbd80379fd"
   },
   "outputs": [
    {
     "name": "stdout",
     "output_type": "stream",
     "text": [
      "Training ROC-AUC score of Random Forest model:  0.8025943527556871\n",
      "Validation ROC-AUC score of Random Forest model:  0.7878348787569898\n",
      "Test ROC-AUC score of Random Forest model:  0.787706083378222\n"
     ]
    }
   ],
   "source": [
    "# Model Evaluation \n",
    "y_predict_train = rf_model.predict_proba(X_train_scaled)\n",
    "y_predict_valid = rf_model.predict_proba(X_validation_scaled)\n",
    "y_predict_test = rf_model.predict_proba(X_test_scaled)\n",
    "\n",
    "train_score_rf = roc_auc_score(y_train, y_predict_train[:,1])\n",
    "valid_score_rf = roc_auc_score(y_validation, y_predict_valid[:,1])\n",
    "test_score_rf = roc_auc_score(y_test, y_predict_test[:,1])\n",
    "print(\"Training ROC-AUC score of Random Forest model: \", train_score_rf)\n",
    "print(\"Validation ROC-AUC score of Random Forest model: \", valid_score_rf)\n",
    "print(\"Test ROC-AUC score of Random Forest model: \", test_score_rf)"
   ]
  },
  {
   "cell_type": "markdown",
   "metadata": {
    "id": "vgh0TBjxydEF"
   },
   "source": [
    "## XGBoost"
   ]
  },
  {
   "cell_type": "markdown",
   "metadata": {
    "id": "EVWSYYlhiaWl"
   },
   "source": [
    "Due to time constraints I will tune some important parameters only."
   ]
  },
  {
   "cell_type": "code",
   "execution_count": null,
   "metadata": {
    "colab": {
     "base_uri": "https://localhost:8080/"
    },
    "id": "fFfOiLq41hJ0",
    "outputId": "52be9b39-8072-4db7-86d1-ba8b246c8a1d"
   },
   "outputs": [
    {
     "data": {
      "text/plain": [
       "{'learning_rate': [0.01, 0.015, 0.025, 0.05, 0.1, 0.3],\n",
       " 'max_depth': [3, 4, 6, 8, 10],\n",
       " 'min_child_weight': [1, 3, 5, 7],\n",
       " 'n_estimators': [100, 200, 300, 400, 500, 600, 700, 800, 900, 1000]}"
      ]
     },
     "execution_count": 15,
     "metadata": {},
     "output_type": "execute_result"
    }
   ],
   "source": [
    "# Parameters to tune \n",
    "parameters = {\n",
    "    'learning_rate': [0.01, 0.015, 0.025, 0.05, 0.1, 0.3],\n",
    "    'n_estimators': [100, 200, 300, 400, 500, 600, 700, 800, 900, 1000],\n",
    "    'max_depth': [3, 4, 6, 8, 10],\n",
    "    'min_child_weight': [1, 3, 5, 7]\n",
    "}\n",
    "parameters"
   ]
  },
  {
   "cell_type": "code",
   "execution_count": null,
   "metadata": {
    "colab": {
     "base_uri": "https://localhost:8080/"
    },
    "id": "6fVtsLHMyHRF",
    "outputId": "13d7687d-071d-4cc2-9d4a-fbcfb47cdb6c"
   },
   "outputs": [
    {
     "name": "stdout",
     "output_type": "stream",
     "text": [
      "The best parameters are: \n",
      " {'n_estimators': 100, 'min_child_weight': 1, 'max_depth': 6, 'learning_rate': 0.025}\n"
     ]
    }
   ],
   "source": [
    "# Model\n",
    "xgbc = xgb.XGBClassifier(random_state = 42, verbosity=0)\n",
    "cv_xgb = RandomizedSearchCV(xgbc, parameters, cv=5)\n",
    "\n",
    "# Find best parameters\n",
    "cv_xgb.fit(X_train_scaled, y_train)\n",
    "\n",
    "print('The best parameters are: \\n', cv_xgb.best_params_)"
   ]
  },
  {
   "cell_type": "code",
   "execution_count": null,
   "metadata": {
    "colab": {
     "base_uri": "https://localhost:8080/"
    },
    "id": "aQ-lKc-31n6G",
    "outputId": "a1805542-1e51-47fa-aba5-0263ade7ab7d"
   },
   "outputs": [
    {
     "data": {
      "text/plain": [
       "XGBClassifier(learning_rate=0.025, max_depth=6, random_state=42, verbosity=0)"
      ]
     },
     "execution_count": 17,
     "metadata": {},
     "output_type": "execute_result"
    }
   ],
   "source": [
    "# Retrain model with tuned parameters\n",
    "\n",
    "xgb_model = xgb.XGBClassifier(\n",
    "    random_state=42, \n",
    "    learning_rate=cv_xgb.best_params_['learning_rate'],\n",
    "    n_estimators=cv_xgb.best_params_['n_estimators'],\n",
    "    max_depth=cv_xgb.best_params_['max_depth'],\n",
    "    min_child_weight=cv_xgb.best_params_['min_child_weight'], \n",
    "    verbosity=0\n",
    ") \n",
    "\n",
    "xgb_model.fit(X_train_scaled, y_train)"
   ]
  },
  {
   "cell_type": "code",
   "execution_count": null,
   "metadata": {
    "colab": {
     "base_uri": "https://localhost:8080/"
    },
    "id": "420PK-5dyiIC",
    "outputId": "15397d95-dd1c-4bfc-e8c5-0a413768638c"
   },
   "outputs": [
    {
     "name": "stdout",
     "output_type": "stream",
     "text": [
      "Training ROC-AUC score of XGBoost model:  0.8251927585680969\n",
      "Validation ROC-AUC score of XGBoost model:  0.7941034591052688\n",
      "Test ROC-AUC score of XGBoost model:  0.7918614542767912\n"
     ]
    }
   ],
   "source": [
    "# Model Evaluation\n",
    "y_predict_train = xgb_model.predict_proba(X_train_scaled)\n",
    "y_predict_valid = xgb_model.predict_proba(X_validation_scaled)\n",
    "y_predict_test = xgb_model.predict_proba(X_test_scaled)\n",
    "\n",
    "train_score_xgb = roc_auc_score(y_train, y_predict_train[:,1])\n",
    "valid_score_xgb = roc_auc_score(y_validation, y_predict_valid[:,1])\n",
    "test_score_xgb = roc_auc_score(y_test, y_predict_test[:,1])\n",
    "print(\"Training ROC-AUC score of XGBoost model: \", train_score_xgb)\n",
    "print(\"Validation ROC-AUC score of XGBoost model: \", valid_score_xgb)\n",
    "print(\"Test ROC-AUC score of XGBoost model: \", test_score_xgb)"
   ]
  },
  {
   "cell_type": "markdown",
   "metadata": {
    "id": "3_UIuwqwj7xW"
   },
   "source": [
    "# Final Results"
   ]
  },
  {
   "cell_type": "code",
   "execution_count": null,
   "metadata": {
    "colab": {
     "base_uri": "https://localhost:8080/",
     "height": 144
    },
    "id": "rk79S2FZyiKo",
    "outputId": "aa1e1828-37aa-4316-a604-6d4f8b163f89"
   },
   "outputs": [
    {
     "data": {
      "text/html": [
       "\n",
       "  <div id=\"df-0a54f158-5000-4789-88e8-17f0070e0eb2\">\n",
       "    <div class=\"colab-df-container\">\n",
       "      <div>\n",
       "<style scoped>\n",
       "    .dataframe tbody tr th:only-of-type {\n",
       "        vertical-align: middle;\n",
       "    }\n",
       "\n",
       "    .dataframe tbody tr th {\n",
       "        vertical-align: top;\n",
       "    }\n",
       "\n",
       "    .dataframe thead th {\n",
       "        text-align: right;\n",
       "    }\n",
       "</style>\n",
       "<table border=\"1\" class=\"dataframe\">\n",
       "  <thead>\n",
       "    <tr style=\"text-align: right;\">\n",
       "      <th></th>\n",
       "      <th>model</th>\n",
       "      <th>Train ROC-AUC score</th>\n",
       "      <th>Validation ROC-AUC score</th>\n",
       "      <th>Test ROC-AUC score</th>\n",
       "    </tr>\n",
       "  </thead>\n",
       "  <tbody>\n",
       "    <tr>\n",
       "      <th>0</th>\n",
       "      <td>Logistic Regression</td>\n",
       "      <td>0.798736</td>\n",
       "      <td>0.787251</td>\n",
       "      <td>0.789623</td>\n",
       "    </tr>\n",
       "    <tr>\n",
       "      <th>1</th>\n",
       "      <td>Random Forest</td>\n",
       "      <td>0.802594</td>\n",
       "      <td>0.787835</td>\n",
       "      <td>0.787706</td>\n",
       "    </tr>\n",
       "    <tr>\n",
       "      <th>2</th>\n",
       "      <td>XGBoost</td>\n",
       "      <td>0.825193</td>\n",
       "      <td>0.794103</td>\n",
       "      <td>0.791861</td>\n",
       "    </tr>\n",
       "  </tbody>\n",
       "</table>\n",
       "</div>\n",
       "      <button class=\"colab-df-convert\" onclick=\"convertToInteractive('df-0a54f158-5000-4789-88e8-17f0070e0eb2')\"\n",
       "              title=\"Convert this dataframe to an interactive table.\"\n",
       "              style=\"display:none;\">\n",
       "        \n",
       "  <svg xmlns=\"http://www.w3.org/2000/svg\" height=\"24px\"viewBox=\"0 0 24 24\"\n",
       "       width=\"24px\">\n",
       "    <path d=\"M0 0h24v24H0V0z\" fill=\"none\"/>\n",
       "    <path d=\"M18.56 5.44l.94 2.06.94-2.06 2.06-.94-2.06-.94-.94-2.06-.94 2.06-2.06.94zm-11 1L8.5 8.5l.94-2.06 2.06-.94-2.06-.94L8.5 2.5l-.94 2.06-2.06.94zm10 10l.94 2.06.94-2.06 2.06-.94-2.06-.94-.94-2.06-.94 2.06-2.06.94z\"/><path d=\"M17.41 7.96l-1.37-1.37c-.4-.4-.92-.59-1.43-.59-.52 0-1.04.2-1.43.59L10.3 9.45l-7.72 7.72c-.78.78-.78 2.05 0 2.83L4 21.41c.39.39.9.59 1.41.59.51 0 1.02-.2 1.41-.59l7.78-7.78 2.81-2.81c.8-.78.8-2.07 0-2.86zM5.41 20L4 18.59l7.72-7.72 1.47 1.35L5.41 20z\"/>\n",
       "  </svg>\n",
       "      </button>\n",
       "      \n",
       "  <style>\n",
       "    .colab-df-container {\n",
       "      display:flex;\n",
       "      flex-wrap:wrap;\n",
       "      gap: 12px;\n",
       "    }\n",
       "\n",
       "    .colab-df-convert {\n",
       "      background-color: #E8F0FE;\n",
       "      border: none;\n",
       "      border-radius: 50%;\n",
       "      cursor: pointer;\n",
       "      display: none;\n",
       "      fill: #1967D2;\n",
       "      height: 32px;\n",
       "      padding: 0 0 0 0;\n",
       "      width: 32px;\n",
       "    }\n",
       "\n",
       "    .colab-df-convert:hover {\n",
       "      background-color: #E2EBFA;\n",
       "      box-shadow: 0px 1px 2px rgba(60, 64, 67, 0.3), 0px 1px 3px 1px rgba(60, 64, 67, 0.15);\n",
       "      fill: #174EA6;\n",
       "    }\n",
       "\n",
       "    [theme=dark] .colab-df-convert {\n",
       "      background-color: #3B4455;\n",
       "      fill: #D2E3FC;\n",
       "    }\n",
       "\n",
       "    [theme=dark] .colab-df-convert:hover {\n",
       "      background-color: #434B5C;\n",
       "      box-shadow: 0px 1px 3px 1px rgba(0, 0, 0, 0.15);\n",
       "      filter: drop-shadow(0px 1px 2px rgba(0, 0, 0, 0.3));\n",
       "      fill: #FFFFFF;\n",
       "    }\n",
       "  </style>\n",
       "\n",
       "      <script>\n",
       "        const buttonEl =\n",
       "          document.querySelector('#df-0a54f158-5000-4789-88e8-17f0070e0eb2 button.colab-df-convert');\n",
       "        buttonEl.style.display =\n",
       "          google.colab.kernel.accessAllowed ? 'block' : 'none';\n",
       "\n",
       "        async function convertToInteractive(key) {\n",
       "          const element = document.querySelector('#df-0a54f158-5000-4789-88e8-17f0070e0eb2');\n",
       "          const dataTable =\n",
       "            await google.colab.kernel.invokeFunction('convertToInteractive',\n",
       "                                                     [key], {});\n",
       "          if (!dataTable) return;\n",
       "\n",
       "          const docLinkHtml = 'Like what you see? Visit the ' +\n",
       "            '<a target=\"_blank\" href=https://colab.research.google.com/notebooks/data_table.ipynb>data table notebook</a>'\n",
       "            + ' to learn more about interactive tables.';\n",
       "          element.innerHTML = '';\n",
       "          dataTable['output_type'] = 'display_data';\n",
       "          await google.colab.output.renderOutput(dataTable, element);\n",
       "          const docLink = document.createElement('div');\n",
       "          docLink.innerHTML = docLinkHtml;\n",
       "          element.appendChild(docLink);\n",
       "        }\n",
       "      </script>\n",
       "    </div>\n",
       "  </div>\n",
       "  "
      ],
      "text/plain": [
       "                 model  Train ROC-AUC score  Validation ROC-AUC score  \\\n",
       "0  Logistic Regression             0.798736                  0.787251   \n",
       "1        Random Forest             0.802594                  0.787835   \n",
       "2              XGBoost             0.825193                  0.794103   \n",
       "\n",
       "   Test ROC-AUC score  \n",
       "0            0.789623  \n",
       "1            0.787706  \n",
       "2            0.791861  "
      ]
     },
     "execution_count": 19,
     "metadata": {},
     "output_type": "execute_result"
    }
   ],
   "source": [
    "Model_comparison = {\n",
    "    'model':['Logistic Regression', 'Random Forest',  'XGBoost' ],\n",
    "    'Train ROC-AUC score':[train_score_lr,  train_score_rf,  train_score_xgb ],\n",
    "    'Validation ROC-AUC score':[valid_score_lr, valid_score_rf,  valid_score_xgb],\n",
    "    'Test ROC-AUC score':[test_score_lr, test_score_rf,  test_score_xgb]\n",
    "}\n",
    "\n",
    "pd.DataFrame(Model_comparison)"
   ]
  },
  {
   "cell_type": "markdown",
   "metadata": {
    "id": "-qkVrUifBPxo"
   },
   "source": [
    "Finally, Random Forest has shown great improvement, it is not overfitting like it was without hyperparameter tuning. All three models now look relatively stable. There probably is some overfitting in XGBoost and Random Forest but XGBoost has a better AUC than Logistic regression or Random Forest. We can use above models for future predictions."
   ]
  },
  {
   "cell_type": "markdown",
   "metadata": {
    "id": "z16txcIojgBb"
   },
   "source": [
    "Final ROC curves for Logistic regression and XGBoost. ROC AUC curve plots reference: https://www.projectpro.io/recipes/plot-roc-curve-in-python"
   ]
  },
  {
   "cell_type": "code",
   "execution_count": null,
   "metadata": {
    "id": "KC12aMqwjrgz"
   },
   "outputs": [],
   "source": [
    "# Calculate inputs for ROC curve Logistic Regression\n",
    "probs_lr = lr_model.predict_proba(X_test_scaled)\n",
    "preds_lr = probs_lr[:,1]\n",
    "fpr_lr, tpr_lr, _ = roc_curve(y_test, preds_lr)\n",
    "roc_auc_lr = auc(fpr_lr, tpr_lr)\n",
    "\n",
    "# Calculate inputs for ROC curve XGBoost\n",
    "probs_xgb = xgb_model.predict_proba(X_test_scaled)\n",
    "preds_xgb = probs_xgb[:,1]\n",
    "fpr_xgb, tpr_xgb, _ = roc_curve(y_test, preds_xgb)\n",
    "roc_auc_xgb = auc(fpr_xgb, tpr_xgb)\n",
    "\n",
    "# Calculate inputs for ROC curve Random Forest\n",
    "probs_rf = rf_model.predict_proba(X_test_scaled)\n",
    "preds_rf = probs_rf[:,1]\n",
    "fpr_rf, tpr_rf, _ = roc_curve(y_test, preds_rf)\n",
    "roc_auc_rf = auc(fpr_rf, tpr_rf)\n"
   ]
  },
  {
   "cell_type": "code",
   "execution_count": null,
   "metadata": {
    "colab": {
     "base_uri": "https://localhost:8080/",
     "height": 310
    },
    "id": "FuVt9z9CoMBc",
    "outputId": "bb982277-132b-4317-c422-93e4f13f5146"
   },
   "outputs": [
    {
     "data": {
      "image/png": "[encoded data removed]",
      "text/plain": [
       "<Figure size 432x288 with 1 Axes>"
      ]
     },
     "metadata": {
      "needs_background": "light"
     },
     "output_type": "display_data"
    }
   ],
   "source": [
    "# ROC Curve plot \n",
    "plt.title('Receiver Operating Characteristic \\n Logistic Regression')\n",
    "plt.plot(fpr_lr, tpr_lr, 'r', label = 'AUC: '+str(round(roc_auc_lr,4)))\n",
    "plt.plot([0, 1], [0, 1],'--')\n",
    "plt.xlim([0, 1])\n",
    "plt.ylim([0, 1])\n",
    "plt.ylabel('True Positive Rate')\n",
    "plt.xlabel('False Positive Rate')\n",
    "plt.legend()\n",
    "plt.show()"
   ]
  },
  {
   "cell_type": "code",
   "execution_count": null,
   "metadata": {
    "colab": {
     "base_uri": "https://localhost:8080/",
     "height": 310
    },
    "id": "unQDcqlijfpO",
    "outputId": "24d84a7f-d8d7-45d3-800c-abedffcf52f3"
   },
   "outputs": [
    {
     "data": {
      "image/png": "[encoded data removed]",
      "text/plain": [
       "<Figure size 432x288 with 1 Axes>"
      ]
     },
     "metadata": {
      "needs_background": "light"
     },
     "output_type": "display_data"
    }
   ],
   "source": [
    "# ROC Curve plot \n",
    "plt.title('Receiver Operating Characteristic \\n XGBoost')\n",
    "plt.plot(fpr_xgb, tpr_xgb, 'r', label = 'AUC: '+str(round(roc_auc_xgb,4)))\n",
    "plt.plot([0, 1], [0, 1],'--')\n",
    "plt.xlim([0, 1])\n",
    "plt.ylim([0, 1])\n",
    "plt.ylabel('True Positive Rate')\n",
    "plt.xlabel('False Positive Rate')\n",
    "plt.legend()\n",
    "plt.show()"
   ]
  },
  {
   "cell_type": "code",
   "execution_count": null,
   "metadata": {
    "colab": {
     "base_uri": "https://localhost:8080/",
     "height": 310
    },
    "id": "zGRfH7qq19OD",
    "outputId": "22388aa4-c408-499e-b8ed-7f79d51f8943"
   },
   "outputs": [
    {
     "data": {
      "image/png": "[encoded data removed]",
      "text/plain": [
       "<Figure size 432x288 with 1 Axes>"
      ]
     },
     "metadata": {
      "needs_background": "light"
     },
     "output_type": "display_data"
    }
   ],
   "source": [
    "# ROC Curve plot \n",
    "plt.title('Receiver Operating Characteristic \\n Random Forest')\n",
    "plt.plot(fpr_rf, tpr_rf, 'r', label = 'AUC: '+str(round(roc_auc_rf,4)))\n",
    "plt.plot([0, 1], [0, 1],'--')\n",
    "plt.xlim([0, 1])\n",
    "plt.ylim([0, 1])\n",
    "plt.ylabel('True Positive Rate')\n",
    "plt.xlabel('False Positive Rate')\n",
    "plt.legend()\n",
    "plt.show()"
   ]
  },
  {
   "cell_type": "markdown",
   "metadata": {
    "id": "ii_jIAo5BqGp"
   },
   "source": [
    "# Next Steps "
   ]
  },
  {
   "cell_type": "markdown",
   "metadata": {
    "id": "oONUY8dqBrp_"
   },
   "source": [
    "The overall results look reasonable to me. However there is a scope of further experimentation, below is the list of what I would like to try: <br>\n",
    "1. Another algorithm that need lot of data and can model non linear hyperplanes pretty well is Neural networks. By making a good choice of activation function, number of hidden layers etc, we might get good results. \n",
    "2. I would also like to try SVM with RBF and polynomial kernels which can model non linear planes. These models take time to run and hence I tried only Linear SVM in the previous notebook.\n",
    "3. Some more work can be done on feature selection. We have many categorical features, Chi square test can be done to see if the observation we have of categories is independent of the target or not.\n",
    "4. We know there are correlated features, we can try dimensionality reduction and then fit the models. We will loose the intrepretation capabilities but it is something worth trying.\n",
    "5. Like I mentioned in the EDA we can try undersampling, oversampling to balance the target categories.\n",
    "6. Compute SHAP values to understand the contribution of each feature to subscription  \n",
    "\n"
   ]
  },
  {
   "cell_type": "markdown",
   "metadata": {
    "id": "nzjWsiZm_lZb"
   },
   "source": [
    "# END"
   ]
  }
 ],
 "metadata": {
  "colab": {
   "collapsed_sections": [],
   "name": "3_TuningAndHoldOutDatasetEvaluation.ipynb",
   "provenance": [],
   "toc_visible": true
  },
  "kernelspec": {
   "display_name": "Python 3",
   "language": "python",
   "name": "python3"
  },
  "language_info": {
   "codemirror_mode": {
    "name": "ipython",
    "version": 3
   },
   "file_extension": ".py",
   "mimetype": "text/x-python",
   "name": "python",
   "nbconvert_exporter": "python",
   "pygments_lexer": "ipython3",
   "version": "3.8.5"
  }
 },
 "nbformat": 4,
 "nbformat_minor": 1
}
